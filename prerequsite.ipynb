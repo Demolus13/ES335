{
 "cells": [
  {
   "cell_type": "markdown",
   "metadata": {},
   "source": [
    "Q1. How many multiplications and additions do you need to perform a matrix multiplication between a (n, k) and (k, m) matrix? Explain."
   ]
  },
  {
   "cell_type": "markdown",
   "metadata": {},
   "source": [
    "Q2. Write Python code to multiply the above two matrices. Solve using list of lists and then use numpy. Compare the timing of both solutions. Which one is faster? Why?"
   ]
  },
  {
   "cell_type": "code",
   "execution_count": 21,
   "metadata": {},
   "outputs": [
    {
     "name": "stdout",
     "output_type": "stream",
     "text": [
      "Time taken by using list of list: 3.127255439758301\n",
      "\n",
      "Time taken by using numpy: 0.012060403823852539\n"
     ]
    }
   ],
   "source": [
    "import numpy as np\n",
    "import time\n",
    "\n",
    "# Because NumPy is implemented in C and optimized for numerical operations it is much faster than python coded calculations. \n",
    "n, m, k = 100, 100, 1000\n",
    "\n",
    "# Using List of list\n",
    "matnk = [[j for j in range(k)] for _ in range(n)]\n",
    "matkm = [[i for _ in range(m)] for i in range(k)]\n",
    "\n",
    "start = time.time()\n",
    "\n",
    "matnm = [[0 for _ in range(len(matkm[0]))] for _ in range(len(matnk))]\n",
    "for i in range(len(matnk)):\n",
    "    for j in range(len(matkm[0])):\n",
    "        for k in range(len(matkm)):\n",
    "            matnm[i][j] += matnk[i][k] * matkm[k][j]\n",
    "# print(matnm)\n",
    "\n",
    "end = time.time()\n",
    "print(\"Time taken by using list of list:\", end - start)\n",
    "\n",
    "# Using numpy library\n",
    "matnk = np.array(matnk)\n",
    "matkm = np.array(matkm)\n",
    "\n",
    "start = time.time()\n",
    "\n",
    "matnm = np.dot(matnk, matkm)\n",
    "# print(matnm)\n",
    "\n",
    "end = time.time()\n",
    "print(\"\\nTime taken by using numpy:\", end - start)"
   ]
  },
  {
   "cell_type": "markdown",
   "metadata": {},
   "source": [
    "Q3. Finding the highest element in a list requires one pass of the array. Finding the second highest element requires 2 passes of the the array. Using this method, what is the time complexity of finding the median of the array? Can you suggest a better method? Can you implement both these methods in Python and compare against numpy.median routine in terms of time?"
   ]
  },
  {
   "cell_type": "code",
   "execution_count": 25,
   "metadata": {},
   "outputs": [
    {
     "name": "stdout",
     "output_type": "stream",
     "text": [
      "The median of the above array is 5.474805043857562\n",
      "Time taken by above median method: 0.11643815040588379\n",
      "\n",
      "The median of the above array is 5.474805043857562\n",
      "Time taken by using numpy: 0.0\n"
     ]
    }
   ],
   "source": [
    "import numpy as np\n",
    "import time\n",
    "\n",
    "arr = np.random.uniform(1, 10, size=(1000,))\n",
    "\n",
    "# Using the above median method\n",
    "start = time.time()\n",
    "\n",
    "n = len(arr)\n",
    "temp = arr\n",
    "for i in range(n//2 + 1):\n",
    "    ind = 0\n",
    "    for j in range(1, len(temp)):\n",
    "        if temp[j] > temp[ind]:\n",
    "            ind = j\n",
    "    if i == n//2:\n",
    "        median1 = temp[ind]\n",
    "    if i == n//2-1:\n",
    "        median2 = temp[ind]\n",
    "    temp = np.delete(temp, ind)\n",
    "\n",
    "# print(f\"Median Method\\nArray:\\n{np.sort(arr)}\\n\")\n",
    "if n%2:\n",
    "    print(\"The median of the above array is\", median1)\n",
    "else:\n",
    "    print(\"The median of the above array is\", (median1+median2)/2)\n",
    "\n",
    "end = time.time()\n",
    "print(\"Time taken by above median method:\", end - start, end=\"\\n\\n\")\n",
    "\n",
    "# Using numpy library\n",
    "start = time.time()\n",
    "\n",
    "# print(f\"Numpy Method\\nArray:\\n{np.sort(arr)}\\n\")\n",
    "print(\"The median of the above array is\", np.median(arr))\n",
    "\n",
    "end = time.time()\n",
    "print(\"Time taken by using numpy:\", end - start)"
   ]
  },
  {
   "cell_type": "markdown",
   "metadata": {},
   "source": [
    "Q4. What is the gradient of the following function with respect to x and y? (x^2)y + (y^3)sin(x)"
   ]
  },
  {
   "cell_type": "markdown",
   "metadata": {},
   "source": [
    "Q5. Use JAX to confirm the gradient evaluated by your method matches the analytical solution corresponding to a few random values of x and y"
   ]
  },
  {
   "cell_type": "code",
   "execution_count": 3,
   "metadata": {},
   "outputs": [
    {
     "name": "stdout",
     "output_type": "stream",
     "text": [
      "\n",
      "Random Values 1: x = 1.5556410401862202, y = 0.7330552645789751\n",
      "Analytical Gradient:\n",
      "df/dx = 2.274772\n",
      "df/dy = 4.0319443\n",
      "\n",
      "JAX Gradient:\n",
      "df/dx = 2.2867117\n",
      "df/dy = 4.0319443\n",
      "\n",
      "Random Values 2: x = 0.33285962077933884, y = 0.41202863649871246\n",
      "Analytical Gradient:\n",
      "df/dx = 0.20818566\n",
      "df/dy = 0.2772087\n",
      "\n",
      "JAX Gradient:\n",
      "df/dx = 0.34040517\n",
      "df/dy = 0.27720872\n",
      "\n",
      "Random Values 3: x = 2.417274060528402, y = 4.389526839088069\n",
      "Analytical Gradient:\n",
      "df/dx = 84.56554\n",
      "df/dy = 44.1455\n",
      "\n",
      "JAX Gradient:\n",
      "df/dx = -42.12278\n",
      "df/dy = 44.1455\n"
     ]
    }
   ],
   "source": [
    "import numpy as np\n",
    "import jax\n",
    "import jax.numpy as jnp\n",
    "\n",
    "n = 3\n",
    "def func(x, y):\n",
    "    return (x**2)*y + (y**3)*jnp.sin(x)\n",
    "\n",
    "# Analytical functions\n",
    "def df_dx(x, y):\n",
    "    return 2*x*y - (y**3)*jnp.cos(x)\n",
    "\n",
    "def df_dy(x, y):\n",
    "    return x**2 + 3*(y**2)*jnp.sin(x)\n",
    "\n",
    "# JAX function\n",
    "df = jax.grad(func, argnums=(0,1))\n",
    "\n",
    "x_vals = np.random.uniform(0, 5, n)\n",
    "y_vals = np.random.uniform(0, 5, n)\n",
    "\n",
    "for i in range(n):\n",
    "    gradx, grady = df(x_vals[i], y_vals[i])\n",
    "\n",
    "    print(f\"\\nRandom Values {i + 1}: x = {x_vals[i]}, y = {y_vals[i]}\")\n",
    "    print(\"Analytical Gradient:\")\n",
    "    print(\"df/dx =\", df_dx(x_vals[i], y_vals[i]))\n",
    "    print(\"df/dy =\", df_dy(x_vals[i], y_vals[i]))\n",
    "\n",
    "    print(\"\\nJAX Gradient:\")\n",
    "    print(\"df/dx =\", gradx)\n",
    "    print(\"df/dy =\", grady)"
   ]
  },
  {
   "cell_type": "markdown",
   "metadata": {},
   "source": [
    "Q6. Use sympy to confirm that you obtain the same gradient analytically."
   ]
  },
  {
   "cell_type": "code",
   "execution_count": 5,
   "metadata": {},
   "outputs": [
    {
     "name": "stdout",
     "output_type": "stream",
     "text": [
      "\n",
      "Random Values 1: x = 1.5556410401862202, y = 0.7330552645789751\n",
      "Sympy Analytical Gradient:\n",
      "df/dx = 2.27477193749641\n",
      "df/dy = 4.03194397533027\n",
      "\n",
      "Random Values 2: x = 0.33285962077933884, y = 0.41202863649871246\n",
      "Sympy Analytical Gradient:\n",
      "df/dx = 0.208185658030073\n",
      "df/dy = 0.277208697757602\n",
      "\n",
      "Random Values 3: x = 2.417274060528402, y = 4.389526839088069\n",
      "Sympy Analytical Gradient:\n",
      "df/dx = 84.5655410156099\n",
      "df/dy = 44.1454965829047\n"
     ]
    }
   ],
   "source": [
    "import sympy as sp\n",
    "\n",
    "x, y = sp.symbols('x y')\n",
    "\n",
    "df_dx = 2*x*y - (y**3)*sp.cos(x)\n",
    "df_dy = x**2 + 3*(y**2)*sp.sin(x)\n",
    "\n",
    "for i in range(n):\n",
    "    gradx = df_dx.subs({x: x_vals[i], y: y_vals[i]})\n",
    "    grady = df_dy.subs({x: x_vals[i], y: y_vals[i]})\n",
    "\n",
    "    print(f\"\\nRandom Values {i + 1}: x = {x_vals[i]}, y = {y_vals[i]}\")\n",
    "    print(\"Sympy Analytical Gradient:\")\n",
    "    print(\"df/dx =\", gradx)\n",
    "    print(\"df/dy =\", grady)"
   ]
  },
  {
   "cell_type": "markdown",
   "metadata": {},
   "source": [
    "Q7. Create a Python nested dictionary to represent hierarchical information. We want to store record of students and their marks. Something like:\n",
    "\n",
    "1. 2022\n",
    "    1. Branch 1\n",
    "        1. Roll Number: 1, Name: N, Marks:\n",
    "            1. Maths: 100, English: 70 …\n",
    "    2. Branch 2\n",
    "2. 2023\n",
    "    1. Branch 1\n",
    "    2. Branch 2\n",
    "3. 2024\n",
    "    1. Branch 1\n",
    "    2. Branch 2\n",
    "4. 2025\n",
    "    1. Branch 1\n",
    "    2. Branch 2"
   ]
  },
  {
   "cell_type": "code",
   "execution_count": null,
   "metadata": {},
   "outputs": [],
   "source": [
    "myDict = {\n",
    "    2022: {\n",
    "        \"Branch 1\": {\n",
    "            1: {\"Name\": \"N\", \"Marks\": {\"Maths\": 100, \"English\": 70}},\n",
    "        },\n",
    "        \"Branch 2\": {},\n",
    "    },\n",
    "    2023: {\n",
    "        \"Branch 1\": {},\n",
    "        \"Branch 2\": {},\n",
    "    },\n",
    "    2024: {\n",
    "        \"Branch 1\": {},\n",
    "        \"Branch 2\": {},\n",
    "    },\n",
    "    2025: {\n",
    "        \"Branch 1\": {},\n",
    "        \"Branch 2\": {},\n",
    "    },\n",
    "}"
   ]
  },
  {
   "cell_type": "markdown",
   "metadata": {},
   "source": [
    "Q8. Store the same information using Python classes. We have an overall database which is a list of year objects. Each year contains a list of branches. Each branch contains a list of students. Each student has some properties like name, roll number and has marks in some subjects."
   ]
  },
  {
   "cell_type": "code",
   "execution_count": null,
   "metadata": {},
   "outputs": [],
   "source": [
    "class Student:\n",
    "    def __init__(self, roll_no, name, marks):\n",
    "        self.roll_no = roll_no\n",
    "        self.name = name\n",
    "        self.marks = marks\n",
    "\n",
    "class Branch:\n",
    "    def __init__(self, name):\n",
    "        self.name = name\n",
    "        self.students = []\n",
    "\n",
    "    def add_student(self, student):\n",
    "        self.students.append(student)\n",
    "    \n",
    "    def remove_student(self, student):\n",
    "        self.students.remove(student)\n",
    "\n",
    "class Year:\n",
    "    def __init__(self, year):\n",
    "        self.year = year\n",
    "        self.branches = []\n",
    "\n",
    "    def add_branch(self, branch):\n",
    "        self.branches.append(branch)\n",
    "\n",
    "# Creating instances and adding data\n",
    "student1 = Student(1, \"N\", {\"Maths\": 100, \"English\": 70})\n",
    "branch1 = Branch(\"Branch 1\")\n",
    "branch1.add_student(student1)\n",
    "year2022 = Year(2022)\n",
    "year2022.add_branch(branch1)\n",
    "\n",
    "print(year2022.branches[0].students[0].roll_no)\n",
    "print(year2022.branches[0].students[0].name)\n",
    "print(year2022.branches[0].students[0].marks)"
   ]
  },
  {
   "cell_type": "markdown",
   "metadata": {},
   "source": [
    "Q9. Using matplotlib plot the following functions on the domain: x = 0.5 to 100.0 in steps of 0.5.\n",
    "\n",
    "1. y = x\n",
    "2. y = x^2\n",
    "3. y = (x^3)/100\n",
    "4. y = sin(x)\n",
    "5. y = sin(x)/x\n",
    "6. y = log(x)\n",
    "7. y = e^x"
   ]
  },
  {
   "cell_type": "code",
   "execution_count": null,
   "metadata": {},
   "outputs": [],
   "source": [
    "import numpy as np\n",
    "import matplotlib.pyplot as plt\n",
    "\n",
    "x = np.arange(0.5, 100.5, 0.5)\n",
    "\n",
    "# Plot 1\n",
    "plt.figure(figsize=(8, 5))\n",
    "plt.plot(x, x)\n",
    "plt.title(\"y = x\")\n",
    "plt.xlabel(\"x\")\n",
    "plt.ylabel(\"y\")\n",
    "plt.show()\n",
    "\n",
    "# Plot 2\n",
    "plt.figure(figsize=(8, 5))\n",
    "plt.plot(x, x**2)\n",
    "plt.title(\"y = x^2\")\n",
    "plt.xlabel(\"x\")\n",
    "plt.ylabel(\"y\")\n",
    "plt.show()\n",
    "\n",
    "# Plot 3\n",
    "plt.figure(figsize=(8, 5))\n",
    "plt.plot(x, (x**3) / 100)\n",
    "plt.title(\"y = (x^3)/100\")\n",
    "plt.xlabel(\"x\")\n",
    "plt.ylabel(\"y\")\n",
    "plt.show()\n",
    "\n",
    "# Plot 4\n",
    "plt.figure(figsize=(8, 5))\n",
    "plt.plot(x, np.sin(x))\n",
    "plt.title(\"y = sin(x)\")\n",
    "plt.xlabel(\"x\")\n",
    "plt.ylabel(\"y\")\n",
    "plt.show()\n",
    "\n",
    "# Plot 5\n",
    "plt.figure(figsize=(8, 5))\n",
    "plt.plot(x, np.sin(x) / x)\n",
    "plt.title(\"y = sin(x)/x\")\n",
    "plt.xlabel(\"x\")\n",
    "plt.ylabel(\"y\")\n",
    "plt.show()\n",
    "\n",
    "# Plot 6\n",
    "plt.figure(figsize=(8, 5))\n",
    "plt.plot(x, np.log(x))\n",
    "plt.title(\"y = log(x)\")\n",
    "plt.xlabel(\"x\")\n",
    "plt.ylabel(\"y\")\n",
    "plt.show()\n",
    "\n",
    "# Plot 7\n",
    "plt.figure(figsize=(8, 5))\n",
    "plt.plot(x, np.exp(x))\n",
    "plt.title(\"y = e^x\")\n",
    "plt.xlabel(\"x\")\n",
    "plt.ylabel(\"y\")\n",
    "plt.show()"
   ]
  },
  {
   "cell_type": "markdown",
   "metadata": {},
   "source": [
    "Q10. Using numpy generate a matrix of size 20X5 containing random numbers drawn uniformly from the range of 1 to 2. Using Pandas create a dataframe out of this matrix. Name the columns of the dataframe as “a”, “b”, “c”, “d”, “e”. Find the column with the highest standard deviation. Find the row with the lowest mean."
   ]
  },
  {
   "cell_type": "code",
   "execution_count": 17,
   "metadata": {},
   "outputs": [
    {
     "name": "stdout",
     "output_type": "stream",
     "text": [
      "           a         b         c         d         e\n",
      "0   1.019019  1.238241  1.191206  1.818753  1.931990\n",
      "1   1.421441  1.317777  1.682253  1.466280  1.387101\n",
      "2   1.956290  1.631439  1.792911  1.492623  1.435476\n",
      "3   1.275532  1.100105  1.966064  1.283422  1.149253\n",
      "4   1.973688  1.145280  1.050439  1.838929  1.966177\n",
      "5   1.704366  1.177241  1.343906  1.117690  1.638012\n",
      "6   1.289707  1.993410  1.909164  1.130729  1.062088\n",
      "7   1.415646  1.464829  1.957614  1.012360  1.981265\n",
      "8   1.140199  1.669072  1.524210  1.882195  1.691139\n",
      "9   1.661399  1.486167  1.337824  1.142010  1.007460\n",
      "10  1.035255  1.450068  1.473599  1.791800  1.217783\n",
      "11  1.354709  1.366573  1.969293  1.222725  1.556957\n",
      "12  1.320973  1.449741  1.306355  1.785644  1.718468\n",
      "13  1.251078  1.407828  1.873709  1.754001  1.220091\n",
      "14  1.469908  1.599921  1.238640  1.883326  1.354486\n",
      "15  1.628218  1.544638  1.438643  1.051106  1.097842\n",
      "16  1.215149  1.039563  1.281455  1.692531  1.117518\n",
      "17  1.922620  1.885746  1.304662  1.634517  1.466029\n",
      "18  1.265893  1.423887  1.520495  1.619853  1.795473\n",
      "19  1.952628  1.486616  1.803903  1.891521  1.755769\n",
      "\n",
      "Column with the highest standard deviation: e\n",
      "\n",
      "Row with the lowest mean: 16\n"
     ]
    }
   ],
   "source": [
    "import numpy as np\n",
    "import pandas as pd\n",
    "\n",
    "matrix = np.random.uniform(1, 2, size=(20, 5))\n",
    "dataframe = pd.DataFrame(matrix, columns=[\"a\", \"b\", \"c\", \"d\", \"e\"])\n",
    "print(dataframe)\n",
    "\n",
    "idx_std = dataframe.std().idxmax()\n",
    "idx_mean = dataframe.mean(axis=1).idxmin()\n",
    "\n",
    "print(\"\\nColumn with the highest standard deviation:\", idx_std)\n",
    "print(\"\\nRow with the lowest mean:\", idx_mean)"
   ]
  },
  {
   "cell_type": "markdown",
   "metadata": {},
   "source": [
    "Q11. Add a new column to the dataframe called “f” which is the sum of the columns “a”, “b”, “c”, “d”, “e”. Create another column called “g”. The value in the column “g” should be “LT8” if the value in the column “f” is less than 8 and “GT8” otherwise. Find the number of rows in the dataframe where the value in the column “g” is “LT8”. Find the standard deviation of the column “f” for the rows where the value in the column “g” is “LT8” and “GT8” respectively."
   ]
  },
  {
   "cell_type": "code",
   "execution_count": 18,
   "metadata": {},
   "outputs": [
    {
     "name": "stdout",
     "output_type": "stream",
     "text": [
      "           a         b         c         d         e         f\n",
      "0   1.019019  1.238241  1.191206  1.818753  1.931990  7.199209\n",
      "1   1.421441  1.317777  1.682253  1.466280  1.387101  7.274852\n",
      "2   1.956290  1.631439  1.792911  1.492623  1.435476  8.308738\n",
      "3   1.275532  1.100105  1.966064  1.283422  1.149253  6.774376\n",
      "4   1.973688  1.145280  1.050439  1.838929  1.966177  7.974513\n",
      "5   1.704366  1.177241  1.343906  1.117690  1.638012  6.981215\n",
      "6   1.289707  1.993410  1.909164  1.130729  1.062088  7.385100\n",
      "7   1.415646  1.464829  1.957614  1.012360  1.981265  7.831714\n",
      "8   1.140199  1.669072  1.524210  1.882195  1.691139  7.906814\n",
      "9   1.661399  1.486167  1.337824  1.142010  1.007460  6.634860\n",
      "10  1.035255  1.450068  1.473599  1.791800  1.217783  6.968505\n",
      "11  1.354709  1.366573  1.969293  1.222725  1.556957  7.470258\n",
      "12  1.320973  1.449741  1.306355  1.785644  1.718468  7.581180\n",
      "13  1.251078  1.407828  1.873709  1.754001  1.220091  7.506706\n",
      "14  1.469908  1.599921  1.238640  1.883326  1.354486  7.546281\n",
      "15  1.628218  1.544638  1.438643  1.051106  1.097842  6.760446\n",
      "16  1.215149  1.039563  1.281455  1.692531  1.117518  6.346216\n",
      "17  1.922620  1.885746  1.304662  1.634517  1.466029  8.213573\n",
      "18  1.265893  1.423887  1.520495  1.619853  1.795473  7.625601\n",
      "19  1.952628  1.486616  1.803903  1.891521  1.755769  8.890436\n",
      "\n",
      "           a         b         c         d         e         f    g\n",
      "0   1.019019  1.238241  1.191206  1.818753  1.931990  7.199209  LT8\n",
      "1   1.421441  1.317777  1.682253  1.466280  1.387101  7.274852  LT8\n",
      "2   1.956290  1.631439  1.792911  1.492623  1.435476  8.308738  GT8\n",
      "3   1.275532  1.100105  1.966064  1.283422  1.149253  6.774376  LT8\n",
      "4   1.973688  1.145280  1.050439  1.838929  1.966177  7.974513  LT8\n",
      "5   1.704366  1.177241  1.343906  1.117690  1.638012  6.981215  LT8\n",
      "6   1.289707  1.993410  1.909164  1.130729  1.062088  7.385100  LT8\n",
      "7   1.415646  1.464829  1.957614  1.012360  1.981265  7.831714  LT8\n",
      "8   1.140199  1.669072  1.524210  1.882195  1.691139  7.906814  LT8\n",
      "9   1.661399  1.486167  1.337824  1.142010  1.007460  6.634860  LT8\n",
      "10  1.035255  1.450068  1.473599  1.791800  1.217783  6.968505  LT8\n",
      "11  1.354709  1.366573  1.969293  1.222725  1.556957  7.470258  LT8\n",
      "12  1.320973  1.449741  1.306355  1.785644  1.718468  7.581180  LT8\n",
      "13  1.251078  1.407828  1.873709  1.754001  1.220091  7.506706  LT8\n",
      "14  1.469908  1.599921  1.238640  1.883326  1.354486  7.546281  LT8\n",
      "15  1.628218  1.544638  1.438643  1.051106  1.097842  6.760446  LT8\n",
      "16  1.215149  1.039563  1.281455  1.692531  1.117518  6.346216  LT8\n",
      "17  1.922620  1.885746  1.304662  1.634517  1.466029  8.213573  GT8\n",
      "18  1.265893  1.423887  1.520495  1.619853  1.795473  7.625601  LT8\n",
      "19  1.952628  1.486616  1.803903  1.891521  1.755769  8.890436  GT8\n",
      "\n",
      "Number of rows where 'g' is 'LT8': 17\n",
      "\n",
      "Standard deviation of 'f' for 'LT8': 0.47209173646189895\n",
      "\n",
      "Standard deviation of 'f' for 'GT8': 0.36641788125357283\n"
     ]
    }
   ],
   "source": [
    "dataframe[\"f\"] = dataframe[[\"a\", \"b\", \"c\", \"d\", \"e\"]].sum(axis=1)\n",
    "print(dataframe, end=\"\\n\\n\")\n",
    "\n",
    "dataframe[\"g\"] = np.where(dataframe[\"f\"] < 8, \"LT8\", \"GT8\")\n",
    "print(dataframe, end=\"\\n\\n\")\n",
    "\n",
    "lt8_rows = sum(dataframe[\"g\"] == \"LT8\")\n",
    "print(\"Number of rows where 'g' is 'LT8':\", lt8_rows, end=\"\\n\\n\")\n",
    "\n",
    "std_lt8 = dataframe.loc[dataframe[\"g\"] == \"LT8\", \"f\"].std()\n",
    "std_gt8 = dataframe.loc[dataframe[\"g\"] == \"GT8\", \"f\"].std()\n",
    "\n",
    "print(\"Standard deviation of 'f' for 'LT8':\", std_lt8, end=\"\\n\\n\")\n",
    "print(\"Standard deviation of 'f' for 'GT8':\", std_gt8)"
   ]
  },
  {
   "cell_type": "markdown",
   "metadata": {},
   "source": [
    "Q12. Write a small piece of code to explain broadcasting in numpy."
   ]
  },
  {
   "cell_type": "code",
   "execution_count": 21,
   "metadata": {},
   "outputs": [
    {
     "name": "stdout",
     "output_type": "stream",
     "text": [
      "Matrix before broadcasting:\n",
      "[[5.61841807 0.380611   5.62350534]\n",
      " [9.4520257  8.74942013 2.14954005]\n",
      " [3.17236977 8.00546067 3.51965512]]\n",
      "\n",
      "Matrix after broadcasting:\n",
      "[[15.61841807 10.380611   15.62350534]\n",
      " [19.4520257  18.74942013 12.14954005]\n",
      " [13.17236977 18.00546067 13.51965512]]\n"
     ]
    }
   ],
   "source": [
    "import numpy as np\n",
    "\n",
    "matrix = np.random.uniform(0, 10, size=(3, 3))\n",
    "print(f\"Matrix before broadcasting:\\n{matrix}\\n\")\n",
    "\n",
    "matrix = matrix + 10\n",
    "print(f\"Matrix after broadcasting:\\n{matrix}\")\n",
    "\n",
    "# In this example, the scalar 10 is broadcasted to each element of the original array A.\n",
    "# This is achieved without explicitly creating an array of shape (2, 3) with all elements equal to 10."
   ]
  },
  {
   "cell_type": "markdown",
   "metadata": {},
   "source": [
    "Q13. Write a function to compute the argmin of a numpy array. The function should take a numpy array as input and return the index of the minimum element. You can use the np.argmin function to verify your solution."
   ]
  },
  {
   "cell_type": "code",
   "execution_count": 32,
   "metadata": {},
   "outputs": [
    {
     "name": "stdout",
     "output_type": "stream",
     "text": [
      "Matrix:\n",
      "[[6.84384743 8.50832342 5.85092281]\n",
      " [1.29343371 0.81270386 5.16392949]\n",
      " [5.50503014 4.18527718 9.5772453 ]]\n",
      "\n",
      "Index of the minimum element: 4\n",
      "\n",
      "Index of the minimum element: 4\n"
     ]
    }
   ],
   "source": [
    "import numpy as np\n",
    "\n",
    "matrix = np.random.uniform(0, 10, size=(3, 3))\n",
    "print(f\"Matrix:\\n{matrix}\\n\")\n",
    "\n",
    "def compute_argmin(arr):\n",
    "    arr = arr.ravel()\n",
    "    min = 0\n",
    "    for ind, value in enumerate(arr):\n",
    "        if value < arr[min]:\n",
    "            min = ind\n",
    "\n",
    "    return min\n",
    "\n",
    "argmin = compute_argmin(matrix)\n",
    "print(f\"Index of the minimum element: {argmin}\\n\")\n",
    "print(f\"Index of the minimum element: {np.argmin(matrix)}\")"
   ]
  }
 ],
 "metadata": {
  "kernelspec": {
   "display_name": "Python 3",
   "language": "python",
   "name": "python3"
  },
  "language_info": {
   "codemirror_mode": {
    "name": "ipython",
    "version": 3
   },
   "file_extension": ".py",
   "mimetype": "text/x-python",
   "name": "python",
   "nbconvert_exporter": "python",
   "pygments_lexer": "ipython3",
   "version": "3.11.3"
  }
 },
 "nbformat": 4,
 "nbformat_minor": 2
}
